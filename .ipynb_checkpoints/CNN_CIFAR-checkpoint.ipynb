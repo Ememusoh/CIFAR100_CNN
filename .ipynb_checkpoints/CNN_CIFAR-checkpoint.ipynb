{
 "cells": [
  {
   "cell_type": "code",
   "execution_count": null,
   "metadata": {},
   "outputs": [
    {
     "ename": "",
     "evalue": "",
     "output_type": "error",
     "traceback": [
      "\u001b[1;31mFailed to start the Kernel. \n",
      "\u001b[1;31mUnable to start Kernel 'Python 3.6.5' due to a timeout waiting for the ports to get used. \n",
      "\u001b[1;31mView Jupyter <a href='command:jupyter.viewOutput'>log</a> for further details."
     ]
    }
   ],
   "source": [
    "import tensorflow as tf\n",
    "from tensorflow.keras import datasets\n",
    "import matplotlib.pyplot as plt\n",
    "import pandas as pd\n",
    "from sklearn.model_selection import train_test_split"
   ]
  },
  {
   "cell_type": "code",
   "execution_count": 2,
   "metadata": {},
   "outputs": [],
   "source": [
    "(X,Y), (x_test, y_test) = tf.keras.datasets.cifar100.load_data(label_mode = \"coarse\")\n"
   ]
  },
  {
   "cell_type": "code",
   "execution_count": null,
   "metadata": {},
   "outputs": [],
   "source": [
    "## you have both fine and coarse(100, 0-99) label(20, 0-19)\n",
    "y_test.max()\n",
    "y_test.min()\n",
    "X.max()\n",
    "X.min()\n",
    "\n",
    "\n",
    "## i have to normalize it, do not touch the Y, just the X\n",
    "X = X/255.0\n",
    "X.max()\n",
    "X.min()\n",
    "\n",
    "## we split data\n",
    "x, x_test, y, y_test = train_test_split(X,Y, test_size= 0.2)\n",
    "print(x.shape)\n",
    "print(y.shape)\n",
    "print(y_test.shape)\n",
    "print(x_test.shape)\n",
    "\n",
    "x_train, x_val, y_train, y_val = train_test_split(x,y, test_size =0.1 )\n",
    "print(x_train.shape)\n",
    "print(y_train.shape)\n",
    "print(y_val.shape)\n",
    "print(x_val.shape)\n"
   ]
  },
  {
   "cell_type": "code",
   "execution_count": 4,
   "metadata": {},
   "outputs": [],
   "source": [
    "input_to_model = tf.keras.layers.Input(shape = (32,32,3), name = \"Input_to_layers\")\n",
    "x = tf.keras.layers.Conv2D(filters = 32, kernel_size=(3,3), strides=2, padding= \"same\", activation=\"relu\")(input_to_model)\n",
    "print(x.shape)\n",
    "# x = tf.keras.layers.Conv2D(filters = 64, kernel_size= (3,3), strides=2, padding= \"same\", activation= \"relu\" )(x)\n",
    "# x = tf.keras.layers.Conv2D(filters = 128, kernel_size= (3,3), strides=2, padding= \"same\", activation= \"relu\" )(x)\n",
    "# x = tf.keras.layers.Flatten()(x)\n",
    "\n",
    "# ## construct the neural network\n",
    "# x = tf.keras.layers.Dense(256, activation= \"relu\")(x)\n",
    "# x = tf.keras.layers.Dense(512, activation = \"relu\")(x)\n",
    "\n",
    "# ## since we are expecting 20 classification (0-19)\n",
    "# ## softmax cause it is classification\n",
    "# ## 20 because we are expecting 20 output\n",
    "# ## no activation for \n",
    "# output = tf.keras.layers.Dense(20, activation=\"softmax\", name = \"output\")(x)\n",
    "\n",
    "# model = tf.keras.Model(inputs = input_to_model, outputs =output)\n",
    "\n",
    "\n"
   ]
  },
  {
   "cell_type": "code",
   "execution_count": null,
   "metadata": {},
   "outputs": [],
   "source": [
    "output.shape\n",
    "\n",
    "model.summary()"
   ]
  },
  {
   "cell_type": "code",
   "execution_count": 8,
   "metadata": {},
   "outputs": [],
   "source": [
    "## next, we select optimizer, loss before training the model. if you dont onehot encode your label(use sparse_categorical_crossentropy), loss will be (categorical_crossentropy), if your label is just O and 1. we use (binary_categorical_entropy)\n",
    "\n",
    "model.compile(optimizer= tf.keras.optimizers.Adam(learning_rate=1e-3), loss = \"sparse_categorical_crossentropy\", metrics = [\"accuracy\"]  )"
   ]
  },
  {
   "cell_type": "code",
   "execution_count": null,
   "metadata": {},
   "outputs": [],
   "source": [
    "model_history = model.fit(x = x_train, y = y_train, validation_data= (x_val, y_val), batch_size= 32, epochs = 20)"
   ]
  },
  {
   "cell_type": "code",
   "execution_count": null,
   "metadata": {},
   "outputs": [],
   "source": [
    "## evaluate data\n",
    "\n",
    "test_score = model.evaluate(x_test, y_test)\n",
    "\n",
    "\n",
    "## visualization\n",
    "model_history.history.keys()\n",
    "df = pd.DataFrame(model_history.history)\n",
    "df.plot()\n",
    "plt.grid(True)"
   ]
  },
  {
   "cell_type": "code",
   "execution_count": null,
   "metadata": {},
   "outputs": [],
   "source": [
    "## save the model and load the data\n",
    "\n",
    "\n",
    "##predict\n",
    "y_pred = model.predict(x_test)\n",
    "\n",
    "\n",
    "#### test our prediction\n",
    "import numpy as np\n",
    "plt.figure(figsize=(3,3))\n",
    "plt.imshow(x_test[0])\n",
    "#y comes in an array and the max(highest) prob is the one that is most likely  \n",
    "y_pred = np.argmax(y_pred, axis = 1) \n",
    "y_pred[0]"
   ]
  },
  {
   "cell_type": "code",
   "execution_count": null,
   "metadata": {},
   "outputs": [],
   "source": [
    "### metrics\n",
    "\n",
    "from sklearn.metrics import accuracy_score, precision_score, recall_score, confusion_matrix, ConfusionMatrixDisplay\n",
    "\n",
    "test_acc = round(accuracy_score(y_test, y_pred),3)\n",
    "test_pre = round(precision_score(y_test, y_pred, average=\"weighted\"),3)\n",
    "test_rec = round(recall_score(y_test, y_pred, average=\"weighted\"),3)\n",
    "\n",
    "print(test_acc)\n",
    "print(test_pre)\n",
    "print(test_rec)\n",
    "\n",
    "\n",
    "cm = confusion_matrix(y_test, y_pred, labels= [0,1,2,3,4,5,6,7,8,9,10,11,12,13,14,15,16,17,18,19])\n",
    "print(cm)\n",
    "\n",
    "disp = ConfusionMatrixDisplay(confusion_matrix=cm, display_labels=[0,1,2,3,4,5,6,7,8,9,10,11,12,13,14,15,16,17,18,19])\n",
    "disp.plot()\n",
    "plt.show()"
   ]
  }
 ],
 "metadata": {
  "kernelspec": {
   "display_name": "Python 3",
   "language": "python",
   "name": "python3"
  },
  "language_info": {
   "codemirror_mode": {
    "name": "ipython",
    "version": 3
   },
   "file_extension": ".py",
   "mimetype": "text/x-python",
   "name": "python",
   "nbconvert_exporter": "python",
   "pygments_lexer": "ipython3",
   "version": "3.6.5"
  }
 },
 "nbformat": 4,
 "nbformat_minor": 2
}
