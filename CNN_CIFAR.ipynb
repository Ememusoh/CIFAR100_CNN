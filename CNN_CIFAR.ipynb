{
 "cells": [
  {
   "cell_type": "code",
   "execution_count": 1,
   "metadata": {},
   "outputs": [],
   "source": [
    "import tensorflow as tf\n",
    "from tensorflow.keras import datasets\n",
    "import matplotlib.pyplot as plt\n",
    "import pandas as pd\n",
    "from sklearn.model_selection import train_test_split"
   ]
  },
  {
   "cell_type": "code",
   "execution_count": 2,
   "metadata": {},
   "outputs": [],
   "source": [
    "(X,Y), (x_test, y_test) = tf.keras.datasets.cifar100.load_data(label_mode = \"coarse\")\n"
   ]
  },
  {
   "cell_type": "code",
   "execution_count": 3,
   "metadata": {},
   "outputs": [
    {
     "name": "stdout",
     "output_type": "stream",
     "text": [
      "(40000, 32, 32, 3)\n",
      "(40000, 1)\n",
      "(10000, 1)\n",
      "(10000, 32, 32, 3)\n",
      "(36000, 32, 32, 3)\n",
      "(36000, 1)\n",
      "(4000, 1)\n",
      "(4000, 32, 32, 3)\n"
     ]
    }
   ],
   "source": [
    "## you have both fine and coarse(100, 0-99) label(20, 0-19)\n",
    "y_test.max()\n",
    "y_test.min()\n",
    "X.max()\n",
    "X.min()\n",
    "\n",
    "\n",
    "## i have to normalize it, do not touch the Y, just the X\n",
    "X = X/255.0\n",
    "X.max()\n",
    "X.min()\n",
    "\n",
    "## we split data\n",
    "x, x_test, y, y_test = train_test_split(X,Y, test_size= 0.2)\n",
    "print(x.shape)\n",
    "print(y.shape)\n",
    "print(y_test.shape)\n",
    "print(x_test.shape)\n",
    "\n",
    "x_train, x_val, y_train, y_val = train_test_split(x,y, test_size =0.1 )\n",
    "print(x_train.shape)\n",
    "print(y_train.shape)\n",
    "print(y_val.shape)\n",
    "print(x_val.shape)\n"
   ]
  },
  {
   "cell_type": "code",
   "execution_count": 4,
   "metadata": {},
   "outputs": [],
   "source": [
    "input_to_model = tf.keras.layers.Input(shape = (32,32,3), name = \"Input_to_layers\")\n",
    "x = tf.keras.layers.Conv2D(filters = 32, kernel_size=(3,3), strides=2, padding= \"same\", activation=\"relu\")(input_to_model)\n",
    "x = tf.keras.layers.Conv2D(filters = 64, kernel_size= (3,3), strides=2, padding= \"same\", activation= \"relu\" )(x)\n",
    "x = tf.keras.layers.Conv2D(filters = 128, kernel_size= (3,3), strides=2, padding= \"same\", activation= \"relu\" )(x)\n",
    "x = tf.keras.layers.Flatten()(x)\n",
    "\n",
    "## construct the neural network\n",
    "x = tf.keras.layers.Dense(256, activation= \"relu\")(x)\n",
    "x = tf.keras.layers.Dense(512, activation = \"relu\")(x)\n",
    "\n",
    "## since we are expecting 20 classification (0-19)\n",
    "## softmax cause it is classification\n",
    "## 20 because we are expecting 20 output\n",
    "## no activation for \n",
    "output = tf.keras.layers.Dense(20, activation=\"softmax\", name = \"output\")(x)\n",
    "\n",
    "model = tf.keras.Model(inputs = input_to_model, outputs =output)\n",
    "\n",
    "\n"
   ]
  },
  {
   "cell_type": "code",
   "execution_count": 7,
   "metadata": {},
   "outputs": [
    {
     "name": "stdout",
     "output_type": "stream",
     "text": [
      "Model: \"model\"\n",
      "_________________________________________________________________\n",
      " Layer (type)                Output Shape              Param #   \n",
      "=================================================================\n",
      " Input_to_layers (InputLayer  [(None, 32, 32, 3)]      0         \n",
      " )                                                               \n",
      "                                                                 \n",
      " conv2d (Conv2D)             (None, 16, 16, 32)        896       \n",
      "                                                                 \n",
      " conv2d_1 (Conv2D)           (None, 8, 8, 64)          18496     \n",
      "                                                                 \n",
      " conv2d_2 (Conv2D)           (None, 4, 4, 128)         73856     \n",
      "                                                                 \n",
      " flatten (Flatten)           (None, 2048)              0         \n",
      "                                                                 \n",
      " dense (Dense)               (None, 256)               524544    \n",
      "                                                                 \n",
      " dense_1 (Dense)             (None, 512)               131584    \n",
      "                                                                 \n",
      " output (Dense)              (None, 20)                10260     \n",
      "                                                                 \n",
      "=================================================================\n",
      "Total params: 759,636\n",
      "Trainable params: 759,636\n",
      "Non-trainable params: 0\n",
      "_________________________________________________________________\n"
     ]
    }
   ],
   "source": [
    "output.shape\n",
    "\n",
    "model.summary()"
   ]
  },
  {
   "cell_type": "code",
   "execution_count": 8,
   "metadata": {},
   "outputs": [],
   "source": [
    "## next, we select optimizer, loss before training the model. if you dont onehot encode your label(use sparse_categorical_crossentropy), loss will be (categorical_crossentropy), if your label is just O and 1. we use (binary_categorical_entropy)\n",
    "\n",
    "model.compile(optimizer= tf.keras.optimizers.Adam(learning_rate=1e-3), loss = \"sparse_categorical_crossentropy\", metrics = [\"accuracy\"]  )"
   ]
  },
  {
   "cell_type": "code",
   "execution_count": 9,
   "metadata": {},
   "outputs": [
    {
     "name": "stdout",
     "output_type": "stream",
     "text": [
      "Epoch 1/20\n",
      "1125/1125 [==============================] - 125s 28ms/step - loss: 2.4442 - accuracy: 0.2376 - val_loss: 2.2171 - val_accuracy: 0.3120\n",
      "Epoch 2/20\n",
      "1125/1125 [==============================] - 16s 14ms/step - loss: 2.0613 - accuracy: 0.3598 - val_loss: 2.0329 - val_accuracy: 0.3630\n",
      "Epoch 3/20\n",
      "1125/1125 [==============================] - 18s 16ms/step - loss: 1.8628 - accuracy: 0.4201 - val_loss: 1.9455 - val_accuracy: 0.4025\n",
      "Epoch 4/20\n",
      "1125/1125 [==============================] - 29s 25ms/step - loss: 1.6919 - accuracy: 0.4670 - val_loss: 1.8922 - val_accuracy: 0.4100\n",
      "Epoch 5/20\n",
      "1125/1125 [==============================] - 28s 25ms/step - loss: 1.5186 - accuracy: 0.5216 - val_loss: 1.9402 - val_accuracy: 0.4178\n",
      "Epoch 6/20\n",
      "1125/1125 [==============================] - 30s 27ms/step - loss: 1.3323 - accuracy: 0.5760 - val_loss: 1.9949 - val_accuracy: 0.4153\n",
      "Epoch 7/20\n",
      "1125/1125 [==============================] - 32s 28ms/step - loss: 1.1585 - accuracy: 0.6278 - val_loss: 2.0954 - val_accuracy: 0.4268\n",
      "Epoch 8/20\n",
      "1125/1125 [==============================] - 49s 43ms/step - loss: 0.9653 - accuracy: 0.6866 - val_loss: 2.2589 - val_accuracy: 0.4218\n",
      "Epoch 9/20\n",
      "1125/1125 [==============================] - 47s 42ms/step - loss: 0.7974 - accuracy: 0.7419 - val_loss: 2.5117 - val_accuracy: 0.4095\n",
      "Epoch 10/20\n",
      "1125/1125 [==============================] - 51s 45ms/step - loss: 0.6408 - accuracy: 0.7884 - val_loss: 2.7230 - val_accuracy: 0.4115\n",
      "Epoch 11/20\n",
      "1125/1125 [==============================] - 52s 47ms/step - loss: 0.5159 - accuracy: 0.8296 - val_loss: 3.0692 - val_accuracy: 0.4027\n",
      "Epoch 12/20\n",
      "1125/1125 [==============================] - 53s 47ms/step - loss: 0.4193 - accuracy: 0.8591 - val_loss: 3.4693 - val_accuracy: 0.4025\n",
      "Epoch 13/20\n",
      "1125/1125 [==============================] - 53s 47ms/step - loss: 0.3547 - accuracy: 0.8820 - val_loss: 3.7015 - val_accuracy: 0.4067\n",
      "Epoch 14/20\n",
      "1125/1125 [==============================] - 51s 46ms/step - loss: 0.3008 - accuracy: 0.8982 - val_loss: 4.0685 - val_accuracy: 0.3943\n",
      "Epoch 15/20\n",
      "1125/1125 [==============================] - 53s 47ms/step - loss: 0.2812 - accuracy: 0.9060 - val_loss: 4.0998 - val_accuracy: 0.3985\n",
      "Epoch 16/20\n",
      "1125/1125 [==============================] - 52s 46ms/step - loss: 0.2434 - accuracy: 0.9196 - val_loss: 4.5711 - val_accuracy: 0.3943\n",
      "Epoch 17/20\n",
      "1125/1125 [==============================] - 53s 47ms/step - loss: 0.2342 - accuracy: 0.9229 - val_loss: 4.8609 - val_accuracy: 0.3965\n",
      "Epoch 18/20\n",
      "1125/1125 [==============================] - 53s 47ms/step - loss: 0.2235 - accuracy: 0.9257 - val_loss: 4.8648 - val_accuracy: 0.3965\n",
      "Epoch 19/20\n",
      "1125/1125 [==============================] - 53s 47ms/step - loss: 0.2031 - accuracy: 0.9324 - val_loss: 5.3754 - val_accuracy: 0.3997\n",
      "Epoch 20/20\n",
      "1125/1125 [==============================] - 53s 47ms/step - loss: 0.1955 - accuracy: 0.9362 - val_loss: 5.2073 - val_accuracy: 0.3972\n"
     ]
    }
   ],
   "source": [
    "model_history = model.fit(x = x_train, y = y_train, validation_data= (x_val, y_val), batch_size= 32, epochs = 20)"
   ]
  },
  {
   "cell_type": "code",
   "execution_count": 10,
   "metadata": {},
   "outputs": [
    {
     "name": "stdout",
     "output_type": "stream",
     "text": [
      "313/313 [==============================] - 6s 13ms/step - loss: 5.1899 - accuracy: 0.4064\n"
     ]
    },
    {
     "data": {
      "image/png": "[encoded data removed]",
      "text/plain": [
       "<Figure size 640x480 with 1 Axes>"
      ]
     },
     "metadata": {},
     "output_type": "display_data"
    }
   ],
   "source": [
    "## evaluate data\n",
    "\n",
    "test_score = model.evaluate(x_test, y_test)\n",
    "\n",
    "\n",
    "## visualization\n",
    "model_history.history.keys()\n",
    "df = pd.DataFrame(model_history.history)\n",
    "df.plot()\n",
    "plt.grid(True)"
   ]
  },
  {
   "cell_type": "code",
   "execution_count": 11,
   "metadata": {},
   "outputs": [
    {
     "name": "stdout",
     "output_type": "stream",
     "text": [
      "313/313 [==============================] - 3s 8ms/step\n"
     ]
    },
    {
     "data": {
      "text/plain": [
       "12"
      ]
     },
     "execution_count": 11,
     "metadata": {},
     "output_type": "execute_result"
    },
    {
     "data": {
      "image/png": "[encoded data removed]",
      "text/plain": [
       "<Figure size 640x480 with 1 Axes>"
      ]
     },
     "metadata": {},
     "output_type": "display_data"
    }
   ],
   "source": [
    "## save the model and load the data\n",
    "\n",
    "\n",
    "##predict\n",
    "y_pred = model.predict(x_test)\n",
    "\n",
    "\n",
    "#### test our prediction\n",
    "import numpy as np\n",
    "plt.figure(figsize=(3,3))\n",
    "plt.imshow(x_test[0])\n",
    "#y comes in an array and the max(highest) prob is the one that is most likely  \n",
    "y_pred = np.argmax(y_pred, axis = 1) \n",
    "y_pred[0]"
   ]
  },
  {
   "cell_type": "code",
   "execution_count": null,
   "metadata": {},
   "outputs": [],
   "source": [
    "### metrics\n",
    "\n",
    "from sklearn.metrics import accuracy_score, precision_score, recall_score, confusion_matrix, ConfusionMatrixDisplay\n",
    "\n",
    "test_acc = round(accuracy_score(y_test, y_pred),3)\n",
    "test_pre = round(precision_score(y_test, y_pred, average=\"weighted\"),3)\n",
    "test_rec = round(recall_score(y_test, y_pred, average=\"weighted\"),3)\n",
    "\n",
    "print(test_acc)\n",
    "print(test_pre)\n",
    "print(test_rec)\n",
    "\n",
    "\n",
    "cm = confusion_matrix(y_test, y_pred, labels= [0,1,2,3,4,5,6,7,8,9,10,11,12,13,14,15,16,17,18,19])\n",
    "print(cm)\n",
    "\n",
    "disp = ConfusionMatrixDisplay(confusion_matrix=cm, display_labels=[0,1,2,3,4,5,6,7,8,9,10,11,12,13,14,15,16,17,18,19])\n",
    "disp.plot()\n",
    "plt.show()"
   ]
  }
 ],
 "metadata": {
  "kernelspec": {
   "display_name": "ml_env",
   "language": "python",
   "name": "python3"
  },
  "language_info": {
   "codemirror_mode": {
    "name": "ipython",
    "version": 3
   },
   "file_extension": ".py",
   "mimetype": "text/x-python",
   "name": "python",
   "nbconvert_exporter": "python",
   "pygments_lexer": "ipython3",
   "version": "3.10.15"
  }
 },
 "nbformat": 4,
 "nbformat_minor": 2
}
