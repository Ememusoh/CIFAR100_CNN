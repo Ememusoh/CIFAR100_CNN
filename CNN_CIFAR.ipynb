{
 "cells": [
  {
   "cell_type": "code",
   "execution_count": 1,
   "metadata": {},
   "outputs": [],
   "source": [
    "import tensorflow as tf\n",
    "from tensorflow.keras import datasets\n",
    "import matplotlib.pyplot as plt\n",
    "import pandas as pd\n",
    "from sklearn.model_selection import train_test_split"
   ]
  },
  {
   "cell_type": "code",
   "execution_count": 2,
   "metadata": {},
   "outputs": [],
   "source": [
    "(X,Y), (x_test, y_test) = tf.keras.datasets.cifar100.load_data(label_mode = \"coarse\")"
   ]
  },
  {
   "cell_type": "code",
   "execution_count": 3,
   "metadata": {},
   "outputs": [],
   "source": [
    "## you have both fine and coarse(100, 0-99) label(20, 0-19)\n",
    "y_test.max()\n",
    "y_test.min()\n",
    "X.max()\n",
    "X.min()\n",
    "\n",
    "\n",
    "## i have to normalize it, do not touch the Y, just the X\n",
    "X = X/255.0\n",
    "X.max()\n",
    "X.min()\n",
    "\n",
    "## we split data\n",
    "x, x_test, y, y_test = train_test_split(X,Y, test_size= 0.2)\n",
    "# print(x.shape)\n",
    "# print(y.shape)\n",
    "# print(y_test.shape)\n",
    "# print(x_test.shape)\n",
    "\n",
    "x_train, x_val, y_train, y_val = train_test_split(x,y, test_size =0.1 )\n",
    "# print(x_train.shape)\n",
    "# print(y_train.shape)\n",
    "# print(y_val.shape)\n",
    "# print(x_val.shape)\n"
   ]
  },
  {
   "cell_type": "code",
   "execution_count": 4,
   "metadata": {},
   "outputs": [],
   "source": [
    "input_to_model = tf.keras.layers.Input(shape = (32,32,3), name = \"Input_to_layers\")\n",
    "x = tf.keras.layers.Conv2D(filters = 32, kernel_size=(3,3), strides=1, padding= \"same\", activation=\"relu\")(input_to_model)\n",
    "x = tf.keras.layers.Dropout(0.2)(x) \n",
    "x = tf.keras.layers.MaxPool2D((2,2))(x)\n",
    "x = tf.keras.layers.Conv2D(filters = 64, kernel_size= (3,3), strides=1, padding= \"same\", activation= \"relu\" )(x)\n",
    "x = tf.keras.layers.Dropout(0.2)(x) \n",
    "x = tf.keras.layers.MaxPool2D((2,2))(x)\n",
    "x = tf.keras.layers.Conv2D(filters = 128, kernel_size= (3,3), strides=1, padding= \"same\", activation= \"relu\" )(x)\n",
    "x = tf.keras.layers.Dropout(0.2)(x) \n",
    "x = tf.keras.layers.MaxPool2D((2,2))(x)\n",
    "\n",
    "x = tf.keras.layers.Flatten()(x)\n",
    "\n",
    "## construct the neural network\n",
    "x = tf.keras.layers.Dense(256, activation= \"relu\")(x)\n",
    "x = tf.keras.layers.Dropout(0.1)(x)\n",
    "x = tf.keras.layers.Dense(512, activation = \"relu\")(x)\n",
    "x = tf.keras.layers.Dropout(0.1)(x)\n",
    "\n",
    "\n",
    "## since we are expecting 20 classification (0-19)\n",
    "## softmax cause it is classification\n",
    "## 20 because we are expecting 20 output\n",
    "## no activation for \n",
    "output = tf.keras.layers.Dense(20, activation=\"softmax\", name = \"output\")(x)\n",
    "\n",
    "model = tf.keras.Model(inputs = input_to_model, outputs =output)\n",
    "\n",
    "\n"
   ]
  },
  {
   "cell_type": "code",
   "execution_count": 5,
   "metadata": {},
   "outputs": [
    {
     "name": "stdout",
     "output_type": "stream",
     "text": [
      "Model: \"model\"\n",
      "_________________________________________________________________\n",
      " Layer (type)                Output Shape              Param #   \n",
      "=================================================================\n",
      " Input_to_layers (InputLayer  [(None, 32, 32, 3)]      0         \n",
      " )                                                               \n",
      "                                                                 \n",
      " conv2d (Conv2D)             (None, 32, 32, 32)        896       \n",
      "                                                                 \n",
      " dropout (Dropout)           (None, 32, 32, 32)        0         \n",
      "                                                                 \n",
      " max_pooling2d (MaxPooling2D  (None, 16, 16, 32)       0         \n",
      " )                                                               \n",
      "                                                                 \n",
      " conv2d_1 (Conv2D)           (None, 16, 16, 64)        18496     \n",
      "                                                                 \n",
      " dropout_1 (Dropout)         (None, 16, 16, 64)        0         \n",
      "                                                                 \n",
      " max_pooling2d_1 (MaxPooling  (None, 8, 8, 64)         0         \n",
      " 2D)                                                             \n",
      "                                                                 \n",
      " conv2d_2 (Conv2D)           (None, 8, 8, 128)         73856     \n",
      "                                                                 \n",
      " dropout_2 (Dropout)         (None, 8, 8, 128)         0         \n",
      "                                                                 \n",
      " max_pooling2d_2 (MaxPooling  (None, 4, 4, 128)        0         \n",
      " 2D)                                                             \n",
      "                                                                 \n",
      " flatten (Flatten)           (None, 2048)              0         \n",
      "                                                                 \n",
      " dense (Dense)               (None, 256)               524544    \n",
      "                                                                 \n",
      " dropout_3 (Dropout)         (None, 256)               0         \n",
      "                                                                 \n",
      " dense_1 (Dense)             (None, 512)               131584    \n",
      "                                                                 \n",
      " dropout_4 (Dropout)         (None, 512)               0         \n",
      "                                                                 \n",
      " output (Dense)              (None, 20)                10260     \n",
      "                                                                 \n",
      "=================================================================\n",
      "Total params: 759,636\n",
      "Trainable params: 759,636\n",
      "Non-trainable params: 0\n",
      "_________________________________________________________________\n"
     ]
    }
   ],
   "source": [
    "output.shape\n",
    "\n",
    "model.summary()"
   ]
  },
  {
   "cell_type": "code",
   "execution_count": 6,
   "metadata": {},
   "outputs": [],
   "source": [
    "## next, we select optimizer, loss before training the model. if you dont onehot encode your label(use sparse_categorical_crossentropy), loss will be (categorical_crossentropy), if your label is just O and 1. we use (binary_categorical_entropy)\n",
    "\n",
    "model.compile(optimizer= tf.keras.optimizers.Adam(learning_rate=1e-4), loss = \"sparse_categorical_crossentropy\", metrics = [\"accuracy\"]  )"
   ]
  },
  {
   "cell_type": "code",
   "execution_count": 7,
   "metadata": {},
   "outputs": [
    {
     "name": "stdout",
     "output_type": "stream",
     "text": [
      "Epoch 1/20\n",
      "1125/1125 [==============================] - 227s 183ms/step - loss: 2.4542 - accuracy: 0.2353 - val_loss: 2.2425 - val_accuracy: 0.3215\n",
      "Epoch 2/20\n",
      "1125/1125 [==============================] - 204s 181ms/step - loss: 2.0287 - accuracy: 0.3729 - val_loss: 2.0629 - val_accuracy: 0.3823\n",
      "Epoch 3/20\n",
      "1125/1125 [==============================] - 171s 152ms/step - loss: 1.8248 - accuracy: 0.4319 - val_loss: 1.8614 - val_accuracy: 0.4285\n",
      "Epoch 4/20\n",
      "1125/1125 [==============================] - 118s 105ms/step - loss: 1.6888 - accuracy: 0.4676 - val_loss: 1.9278 - val_accuracy: 0.4108\n",
      "Epoch 5/20\n",
      "1125/1125 [==============================] - 369s 328ms/step - loss: 1.5701 - accuracy: 0.5053 - val_loss: 1.7746 - val_accuracy: 0.4575\n",
      "Epoch 6/20\n",
      "1125/1125 [==============================] - 604s 536ms/step - loss: 1.4761 - accuracy: 0.5323 - val_loss: 1.6916 - val_accuracy: 0.4852\n",
      "Epoch 7/20\n",
      "1125/1125 [==============================] - 603s 536ms/step - loss: 1.3835 - accuracy: 0.5609 - val_loss: 1.6748 - val_accuracy: 0.4890\n",
      "Epoch 8/20\n",
      "1125/1125 [==============================] - 615s 546ms/step - loss: 1.3106 - accuracy: 0.5801 - val_loss: 1.6376 - val_accuracy: 0.4947\n",
      "Epoch 9/20\n",
      "1125/1125 [==============================] - 611s 543ms/step - loss: 1.2386 - accuracy: 0.6051 - val_loss: 1.6392 - val_accuracy: 0.4902\n",
      "Epoch 10/20\n",
      "1125/1125 [==============================] - 609s 541ms/step - loss: 1.1730 - accuracy: 0.6225 - val_loss: 1.6676 - val_accuracy: 0.4852\n",
      "Epoch 11/20\n",
      "1125/1125 [==============================] - 615s 547ms/step - loss: 1.1286 - accuracy: 0.6346 - val_loss: 1.7033 - val_accuracy: 0.4897\n",
      "Epoch 12/20\n",
      "1125/1125 [==============================] - 615s 547ms/step - loss: 1.0693 - accuracy: 0.6524 - val_loss: 1.6478 - val_accuracy: 0.4997\n",
      "Epoch 13/20\n",
      "1125/1125 [==============================] - 608s 541ms/step - loss: 1.0187 - accuracy: 0.6684 - val_loss: 1.6338 - val_accuracy: 0.4967\n",
      "Epoch 14/20\n",
      "1125/1125 [==============================] - 613s 544ms/step - loss: 0.9822 - accuracy: 0.6794 - val_loss: 1.6232 - val_accuracy: 0.4938\n",
      "Epoch 15/20\n",
      "1125/1125 [==============================] - 613s 545ms/step - loss: 0.9429 - accuracy: 0.6930 - val_loss: 1.6467 - val_accuracy: 0.4970\n",
      "Epoch 16/20\n",
      "1125/1125 [==============================] - 610s 542ms/step - loss: 0.9047 - accuracy: 0.7048 - val_loss: 1.7292 - val_accuracy: 0.4790\n",
      "Epoch 17/20\n",
      "1125/1125 [==============================] - 614s 545ms/step - loss: 0.8833 - accuracy: 0.7106 - val_loss: 1.6434 - val_accuracy: 0.5060\n",
      "Epoch 18/20\n",
      "1125/1125 [==============================] - 614s 546ms/step - loss: 0.8496 - accuracy: 0.7217 - val_loss: 1.6816 - val_accuracy: 0.5033\n",
      "Epoch 19/20\n",
      "1125/1125 [==============================] - 616s 548ms/step - loss: 0.8211 - accuracy: 0.7321 - val_loss: 1.7359 - val_accuracy: 0.4960\n",
      "Epoch 20/20\n",
      "1125/1125 [==============================] - 619s 550ms/step - loss: 0.8006 - accuracy: 0.7366 - val_loss: 1.7524 - val_accuracy: 0.4845\n"
     ]
    }
   ],
   "source": [
    "model_history = model.fit(x = x_train, y = y_train, validation_data= (x_val, y_val), batch_size= 32, epochs = 20)"
   ]
  },
  {
   "cell_type": "code",
   "execution_count": null,
   "metadata": {},
   "outputs": [],
   "source": [
    "## evaluate data\n",
    "\n",
    "test_score = model.evaluate(x_test, y_test)\n",
    "\n",
    "\n",
    "## visualization\n",
    "model_history.history.keys()\n",
    "df = pd.DataFrame(model_history.history)\n",
    "df.plot()\n",
    "plt.grid(True)"
   ]
  },
  {
   "cell_type": "code",
   "execution_count": null,
   "metadata": {},
   "outputs": [],
   "source": [
    "## save the model and load the data\n",
    "\n",
    "\n",
    "##predict\n",
    "y_pred = model.predict(x_test)\n",
    "\n",
    "\n",
    "#### test our prediction\n",
    "import numpy as np\n",
    "plt.figure(figsize=(3,3))\n",
    "plt.imshow(x_test[0])\n",
    "#y comes in an array and the max(highest) prob is the one that is most likely  \n",
    "y_pred = np.argmax(y_pred, axis = 1) \n",
    "y_pred[0]"
   ]
  },
  {
   "cell_type": "code",
   "execution_count": null,
   "metadata": {},
   "outputs": [],
   "source": [
    "### metrics\n",
    "\n",
    "from sklearn.metrics import accuracy_score, precision_score, recall_score, confusion_matrix, ConfusionMatrixDisplay\n",
    "\n",
    "test_acc = round(accuracy_score(y_test, y_pred),3)\n",
    "test_pre = round(precision_score(y_test, y_pred, average=\"weighted\"),3)\n",
    "test_rec = round(recall_score(y_test, y_pred, average=\"weighted\"),3)\n",
    "\n",
    "print(test_acc)\n",
    "print(test_pre)\n",
    "print(test_rec)\n",
    "\n",
    "\n",
    "cm = confusion_matrix(y_test, y_pred, labels= [0,1,2,3,4,5,6,7,8,9,10,11,12,13,14,15,16,17,18,19])\n",
    "print(cm)\n",
    "\n",
    "disp = ConfusionMatrixDisplay(confusion_matrix=cm, display_labels=[0,1,2,3,4,5,6,7,8,9,10,11,12,13,14,15,16,17,18,19])\n",
    "disp.plot()\n",
    "plt.show()"
   ]
  }
 ],
 "metadata": {
  "kernelspec": {
   "display_name": "ml_env",
   "language": "python",
   "name": "python3"
  },
  "language_info": {
   "codemirror_mode": {
    "name": "ipython",
    "version": 3
   },
   "file_extension": ".py",
   "mimetype": "text/x-python",
   "name": "python",
   "nbconvert_exporter": "python",
   "pygments_lexer": "ipython3",
   "version": "3.10.15"
  }
 },
 "nbformat": 4,
 "nbformat_minor": 4
}
